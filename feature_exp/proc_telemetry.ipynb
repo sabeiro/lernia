{
 "cells": [
  {
   "cell_type": "code",
   "execution_count": 1,
   "metadata": {},
   "outputs": [],
   "source": [
    "#--------------------------------------import-------------------------------------\n",
    "import os, sys, gzip, random, json, datetime, re, io\n",
    "import pandas as pd\n",
    "from pathlib import Path\n",
    "from scipy import stats as st\n",
    "#-----------------------------------environment------------------------------------\n",
    "dL = os.listdir(os.environ['LAV_DIR']+'/src/')\n",
    "sys.path = list(set(sys.path + [os.environ['LAV_DIR']+'/src/'+x for x in dL]))\n",
    "baseDir = os.environ['LAV_DIR']\n",
    "projDir = baseDir + \"/rem/src/feature_exp/\"\n",
    "#------------------------------------local-import----------------------------------\n",
    "from sawmill import aws_utils as a_u\n",
    "from sawmill import proc_spark as p_s\n",
    "from albio import series_stream as s_s\n",
    "import importlib"
   ]
  },
  {
   "cell_type": "code",
   "execution_count": 32,
   "metadata": {},
   "outputs": [],
   "source": [
    "#-----------------------------pyspark-import----------------------\n",
    "os.environ['JAVA_HOME'] = '/usr/lib/jvm/java-1.8.0-openjdk-amd64'\n",
    "import pyspark\n",
    "from pyspark import SparkContext, SparkConf\n",
    "from pyspark.sql import SQLContext\n",
    "from pyspark.sql.types import *\n",
    "from pyspark.sql.functions import udf\n",
    "from pyspark.sql.functions import to_utc_timestamp, from_utc_timestamp\n",
    "from pyspark.sql.functions import date_format\n",
    "from pyspark.sql import functions as func\n",
    "from pyspark.sql.functions import col\n",
    "from pyspark.sql.window import Window\n",
    "\n",
    "conf = (SparkConf()\n",
    "    .setMaster(\"yarn-client\")\n",
    "    .setAppName(\"proc library\")\n",
    "    .set(\"spark.deploy-mode\", \"cluster\"))\n",
    "conf.set(\"spark.executor.memory\", \"10g\")\n",
    "conf.set(\"spark.executor.cores\", \"10\")\n",
    "conf.set(\"spark.executor.instances\", \"2\")\n",
    "conf.set(\"spark.driver.maxResultSize\", \"10g\")\n",
    "conf.set(\"spark.driver.memory\", \"10g\")\n",
    "conf.set(\"spark.sql.crossJoin.enabled\", \"true\")\n",
    "\n",
    "sc = SparkContext.getOrCreate()\n",
    "sqlContext = SQLContext(sc)\n",
    "sc.setLogLevel(\"ERROR\")"
   ]
  },
  {
   "cell_type": "code",
   "execution_count": 1,
   "metadata": {},
   "outputs": [],
   "source": [
    "from pyspark.sql import SparkSession"
   ]
  },
  {
   "cell_type": "code",
   "execution_count": 74,
   "metadata": {},
   "outputs": [],
   "source": [
    "timeFmt = \"yyyy-MM-dd HH:mm:ss.SSS\""
   ]
  },
  {
   "cell_type": "code",
   "execution_count": 123,
   "metadata": {},
   "outputs": [
    {
     "name": "stdout",
     "output_type": "stream",
     "text": [
      "root\n",
      " |-- session_id: string (nullable = true)\n",
      " |-- date: string (nullable = true)\n",
      " |-- timestamp_ms: timestamp (nullable = true)\n",
      " |-- longitude: double (nullable = true)\n",
      " |-- latitude: double (nullable = true)\n",
      " |-- control_room_id: string (nullable = true)\n",
      " |-- actuators_enabled: boolean (nullable = true)\n",
      " |-- control_room_jitter: struct (nullable = true)\n",
      " |    |-- jitter_ms: float (nullable = true)\n",
      " |-- vehicle_jitter: struct (nullable = true)\n",
      " |    |-- jitter_ms: float (nullable = true)\n",
      " |-- control_room_ping: struct (nullable = true)\n",
      " |    |-- ping_ms: float (nullable = true)\n",
      " |-- vehicle_ping: struct (nullable = true)\n",
      " |    |-- ping_ms: float (nullable = true)\n",
      " |-- e2e_latency: struct (nullable = true)\n",
      " |    |-- camera_index: integer (nullable = true)\n",
      " |    |-- latency_ms: long (nullable = true)\n",
      " |-- fault_detected: struct (nullable = true)\n",
      " |    |-- fault_source: string (nullable = true)\n",
      " |    |-- is_timeout: boolean (nullable = true)\n",
      " |-- latency_camera: struct (nullable = true)\n",
      " |    |-- camera_index: integer (nullable = true)\n",
      " |    |-- latency_ms: long (nullable = true)\n",
      " |-- rtp_stats: struct (nullable = true)\n",
      " |    |-- camera_index: integer (nullable = true)\n",
      " |    |-- percent: integer (nullable = true)\n",
      " |    |-- pushed: long (nullable = true)\n",
      " |    |-- delta_pushed: long (nullable = true)\n",
      " |    |-- lost: long (nullable = true)\n",
      " |    |-- delta_lost: long (nullable = true)\n",
      " |    |-- late: long (nullable = true)\n",
      " |    |-- delta_late: long (nullable = true)\n",
      " |    |-- duplicate: long (nullable = true)\n",
      " |    |-- delta_duplicate: long (nullable = true)\n",
      " |-- i_frame_sent: struct (nullable = true)\n",
      " |    |-- camera_index: integer (nullable = true)\n",
      " |-- jitter: struct (nullable = true)\n",
      " |    |-- camera_index: integer (nullable = true)\n",
      " |    |-- jitter_ms: float (nullable = true)\n",
      " |-- nav_fix: struct (nullable = true)\n",
      " |    |-- latitude: double (nullable = true)\n",
      " |    |-- longitude: double (nullable = true)\n",
      " |-- nav_fix_filtered: struct (nullable = true)\n",
      " |    |-- latitude: double (nullable = true)\n",
      " |    |-- longitude: double (nullable = true)\n",
      " |-- joystick_hz: struct (nullable = true)\n",
      " |    |-- joystick_hz: float (nullable = true)\n",
      " |-- joystick_latency: struct (nullable = true)\n",
      " |    |-- joystick_latency_ns: long (nullable = true)\n",
      " |-- received_control_message_stats: struct (nullable = true)\n",
      " |    |-- in_order_messages_number: integer (nullable = true)\n",
      " |    |-- out_of_order_messages_number: integer (nullable = true)\n",
      " |    |-- missed_messages_number: integer (nullable = true)\n",
      " |-- joystick_initialized: struct (nullable = true)\n",
      " |    |-- joystick_initialized: boolean (nullable = true)\n",
      " |-- modem_report: struct (nullable = true)\n",
      " |    |-- modem_report_data: array (nullable = true)\n",
      " |    |    |-- element: struct (containsNull = true)\n",
      " |    |    |    |-- name: string (nullable = true)\n",
      " |    |    |    |-- message: string (nullable = true)\n",
      " |    |    |    |-- ip: string (nullable = true)\n",
      " |    |    |    |-- status_led: string (nullable = true)\n",
      " |    |    |    |-- uptime: integer (nullable = true)\n",
      " |    |    |    |-- carrier_name: string (nullable = true)\n",
      " |    |    |    |-- carrier_country: string (nullable = true)\n",
      " |    |    |    |-- band: string (nullable = true)\n",
      " |    |    |    |-- rssi: integer (nullable = true)\n",
      " |    |    |    |-- sinr: double (nullable = true)\n",
      " |    |    |    |-- rsrp: integer (nullable = true)\n",
      " |    |    |    |-- rsrq: integer (nullable = true)\n",
      " |    |    |    |-- level: integer (nullable = true)\n",
      " |    |    |    |-- cell_id: integer (nullable = true)\n",
      " |    |    |    |-- tunnel_state: string (nullable = true)\n",
      " |    |    |    |-- tunnel_active: boolean (nullable = true)\n",
      " |    |    |    |-- tunnel_uptime_sec: integer (nullable = true)\n",
      " |    |    |    |-- tunnel_uptime_ns: integer (nullable = true)\n",
      " |    |    |    |-- tunnel_rtt: integer (nullable = true)\n",
      " |    |    |    |-- tunnel_rx: long (nullable = true)\n",
      " |    |    |    |-- tunnel_tx: long (nullable = true)\n",
      " |    |    |    |-- tunnel_loss: integer (nullable = true)\n",
      " |    |    |    |-- tunnel_delta_valid: boolean (nullable = true)\n",
      " |    |    |    |-- tunnel_delta_interval_sec: integer (nullable = true)\n",
      " |    |    |    |-- tunnel_delta_interval_ns: integer (nullable = true)\n",
      " |    |    |    |-- tunnel_delta_loss: integer (nullable = true)\n",
      " |    |    |    |-- tunnel_delta_tx: integer (nullable = true)\n",
      " |    |    |    |-- tunnel_delta_rx: integer (nullable = true)\n",
      " |-- radar_track: struct (nullable = true)\n",
      " |    |-- object_relative_speed_m_per_sec: float (nullable = true)\n",
      " |    |-- object_distance_m: float (nullable = true)\n",
      " |    |-- object_position_m: float (nullable = true)\n",
      " |    |-- object_status: integer (nullable = true)\n",
      " |-- wheel_speed: struct (nullable = true)\n",
      " |    |-- mean_km_per_hour: float (nullable = true)\n",
      " |    |-- left_front_km_per_hour: float (nullable = true)\n",
      " |    |-- left_rear_km_per_hour: float (nullable = true)\n",
      " |    |-- right_front_km_per_hour: float (nullable = true)\n",
      " |    |-- right_rear_km_per_hour: float (nullable = true)\n",
      " |-- vehicle_physics: struct (nullable = true)\n",
      " |    |-- lateral_force_m_per_sec_squared: float (nullable = true)\n",
      " |    |-- longitudinal_force_m_per_sec_squared: float (nullable = true)\n",
      " |    |-- yaw_rate_deg_per_sec: float (nullable = true)\n",
      " |-- control_room_ram_usage: struct (nullable = true)\n",
      " |    |-- ram_usage_percent: float (nullable = true)\n",
      " |-- vehicle_ram_usage: struct (nullable = true)\n",
      " |    |-- ram_usage_percent: float (nullable = true)\n",
      " |-- control_room_cpu_usage: struct (nullable = true)\n",
      " |    |-- cpu_usage_percent: float (nullable = true)\n",
      " |-- vehicle_cpu_usage: struct (nullable = true)\n",
      " |    |-- cpu_usage_percent: float (nullable = true)\n",
      " |-- steering_wheel_state: struct (nullable = true)\n",
      " |    |-- steering_deg: integer (nullable = true)\n",
      " |    |-- throttle: integer (nullable = true)\n",
      " |    |-- brake: integer (nullable = true)\n",
      " |-- steering_angle: struct (nullable = true)\n",
      " |    |-- angle_deg: float (nullable = true)\n",
      " |-- brake_pressure: struct (nullable = true)\n",
      " |    |-- brake_pressure: float (nullable = true)\n",
      " |-- throttle_pressure: struct (nullable = true)\n",
      " |    |-- throttle_pressure: float (nullable = true)\n",
      " |-- vehicle_disk_available: struct (nullable = true)\n",
      " |    |-- vehicle_disk_available_bytes: long (nullable = true)\n",
      " |-- bitrate_adjusted: struct (nullable = true)\n",
      " |    |-- camera_index: integer (nullable = true)\n",
      " |    |-- bitrate_bps: long (nullable = true)\n",
      " |-- vehicle_internal_drive_state: struct (nullable = true)\n",
      " |    |-- drive_state: string (nullable = true)\n",
      " |    |-- fault_source: string (nullable = true)\n",
      " |    |-- fault_detected: boolean (nullable = true)\n",
      " |-- vehicle_temperature_readings: struct (nullable = true)\n",
      " |    |-- b_cpu_temperature: float (nullable = true)\n",
      " |    |-- m_cpu_temperature: float (nullable = true)\n",
      " |    |-- gpu_temperature: float (nullable = true)\n",
      " |    |-- pll_temperature: float (nullable = true)\n",
      " |    |-- board_temperature: float (nullable = true)\n",
      " |    |-- diode_temperature: float (nullable = true)\n",
      " |    |-- pmic_temperature: float (nullable = true)\n",
      " |    |-- thermal_fan_temperature: float (nullable = true)\n",
      " |-- control_room_performance: struct (nullable = true)\n",
      " |    |-- native_cycle_duration_sample_count: integer (nullable = true)\n",
      " |    |-- native_cycle_duration_min_ms: float (nullable = true)\n",
      " |    |-- native_cycle_duration_max_ms: float (nullable = true)\n",
      " |    |-- native_cycle_duration_average_ms: float (nullable = true)\n",
      " |    |-- camera_interframe_interval_sample_count: integer (nullable = true)\n",
      " |    |-- camera_interframe_interval_min_ms: float (nullable = true)\n",
      " |    |-- camera_interframe_interval_max_ms: float (nullable = true)\n",
      " |    |-- camera_interframe_interval_average_ms: float (nullable = true)\n",
      " |-- meta: struct (nullable = true)\n",
      " |    |-- stream_ingestion_timestamp_ms: timestamp (nullable = true)\n",
      " |    |-- processing_timestamp_ms: timestamp (nullable = true)\n",
      " |    |-- ingestion_id: string (nullable = true)\n",
      "\n"
     ]
    }
   ],
   "source": [
    "#----------------------load-data-frame---------------------------\n",
    "df = sqlContext.read.parquet(baseDir + \"/rem/log/\" + 'telemetry')\n",
    "df = df.orderBy(['session_id','timestamp_ms'])\n",
    "df.printSchema()"
   ]
  },
  {
   "cell_type": "code",
   "execution_count": 150,
   "metadata": {
    "scrolled": false
   },
   "outputs": [
    {
     "name": "stdout",
     "output_type": "stream",
     "text": [
      "+--------------------+-----------+-----------+--------------+-----------------+------------------+------------------+-----------+-----------+--------------------+------------------+--------------------+---------+---------+--------+---------------+-----------------+------------+--------------+--------------------+-----------+\n",
      "|          session_id|       deci|room_jitter|vehicle_jitter|    camera_jitter|      vehicle_ping|     joystick_freq|wheel_speed|radar_speed|       force_lateral|force_longitudinal|            yaw_rate|ram_usage|cpu_usage|bit_rate|cpu_temperature|camera_interframe|native_cycle|camera_latency|    joystick_latency|e2e_latency|\n",
      "+--------------------+-----------+-----------+--------------+-----------------+------------------+------------------+-----------+-----------+--------------------+------------------+--------------------+---------+---------+--------+---------------+-----------------+------------+--------------+--------------------+-----------+\n",
      "|7ac225a7-57e8-4f6...|15936698938|       null|          10.5|34.31372850591486|26.200000762939453|50.911766052246094|        0.0|       null|-0.12333333243926366|0.1566666712363561|-0.09000000109275182|     null|     null|    null|           null|             null|        null|         134.5|3.0666666666666668E7|      175.0|\n",
      "+--------------------+-----------+-----------+--------------+-----------------+------------------+------------------+-----------+-----------+--------------------+------------------+--------------------+---------+---------+--------+---------------+-----------------+------------+--------------+--------------------+-----------+\n",
      "only showing top 1 row\n",
      "\n"
     ]
    }
   ],
   "source": [
    "#----------------------group-by-deci-seconds---------------------\n",
    "df = df.withColumn('deci',(func.col('timestamp_ms').cast('double')*10.).cast('long'))\n",
    "ddf = df.groupBy([\"session_id\",\"deci\"]).agg(\n",
    "    func.mean('control_room_jitter.jitter_ms').alias('room_jitter'),\n",
    "    func.mean('vehicle_jitter.jitter_ms').alias('vehicle_jitter'),\n",
    "    func.mean('jitter.jitter_ms').alias('camera_jitter'),\n",
    "    func.mean('vehicle_ping.ping_ms').alias('vehicle_ping'),\n",
    "    func.mean('joystick_hz.joystick_hz').alias('joystick_freq'),\n",
    "    func.mean('wheel_speed.mean_km_per_hour').alias('wheel_speed'),\n",
    "    func.mean('radar_track.object_relative_speed_m_per_sec').alias('radar_speed'),\n",
    "    func.mean('vehicle_physics.lateral_force_m_per_sec_squared').alias('force_lateral'),\n",
    "    func.mean('vehicle_physics.longitudinal_force_m_per_sec_squared').alias('force_longitudinal'),\n",
    "    func.mean('vehicle_physics.yaw_rate_deg_per_sec').alias('yaw_rate'),\n",
    "    func.mean('vehicle_ram_usage.ram_usage_percent').alias('ram_usage'),\n",
    "    func.mean('vehicle_cpu_usage.cpu_usage_percent').alias('cpu_usage'),\n",
    "    func.mean('bitrate_adjusted.bitrate_bps').alias('bit_rate'),\n",
    "    func.mean('vehicle_temperature_readings.b_cpu_temperature').alias('cpu_temperature'),\n",
    "    func.mean('control_room_performance.camera_interframe_interval_average_ms').alias('camera_interframe'),\n",
    "    func.mean('control_room_performance.native_cycle_duration_average_ms').alias('native_cycle'),\n",
    "    func.mean('latency_camera.latency_ms').alias('camera_latency'),\n",
    "    func.mean('joystick_latency.joystick_latency_ns').alias('joystick_latency'),\n",
    "    func.mean('e2e_latency.latency_ms').alias('e2e_latency'),\n",
    "    )\n",
    "ddf.show(1)"
   ]
  },
  {
   "cell_type": "code",
   "execution_count": 151,
   "metadata": {
    "scrolled": true
   },
   "outputs": [
    {
     "name": "stdout",
     "output_type": "stream",
     "text": [
      "+--------------------+-----------+-----------------+------------------+------------------+------------------+------------------+-----------+-----------+--------------------+-------------------+--------------------+-----------------+---------+--------+---------------+-----------------+------------+------------------+--------------------+------------------+\n",
      "|          session_id|       deci|      room_jitter|    vehicle_jitter|     camera_jitter|      vehicle_ping|     joystick_freq|wheel_speed|radar_speed|       force_lateral| force_longitudinal|            yaw_rate|        ram_usage|cpu_usage|bit_rate|cpu_temperature|camera_interframe|native_cycle|    camera_latency|    joystick_latency|       e2e_latency|\n",
      "+--------------------+-----------+-----------------+------------------+------------------+------------------+------------------+-----------+-----------+--------------------+-------------------+--------------------+-----------------+---------+--------+---------------+-----------------+------------+------------------+--------------------+------------------+\n",
      "|7ac225a7-57e8-4f6...|15936698938|              5.0|              10.5|  33.6972970420664|26.200000762939453| 50.40239334106445|        0.0|       null|-0.14333333385487396|0.16416666780908903| -0.0737500002918144|             null|     null|    null|           null|             null|        null|          138.9375|3.0583333333333336E7|174.73055555555555|\n",
      "|7ac225a7-57e8-4f6...|15936699403|              5.0|              null| 34.37717830773556|              null| 50.32176666259765|        0.0|       null|-0.14366666773955025| 0.1643333355585734|-0.07400000045696895|7.524114608764648|     null|    null|           null|             null|        null|             140.7|3.0666666666666668E7|174.93444444444444|\n",
      "|7ac225a7-57e8-4f6...|15936699577|5.400000254313151| 8.799999237060547|34.353374649779965|              null| 50.26782735188802|        0.0|       null|-0.14555555664830735| 0.1611111122700903|-0.07416666692329778|7.524114608764648|     null|    null|           null|             null|        null|139.72916666666666| 3.077777777777778E7|173.32415824915824|\n",
      "|7ac225a7-57e8-4f6...|15936699592|5.400000254313151| 7.799999237060547|33.895614732189095| 39.79999923706055| 50.22950417654855|        0.0|       null|-0.14547619081678845|0.16095238143489476|-0.07857142885526021|7.525381326675415|     null|    null|           null|             null|        null|141.35714285714286|3.0809523809523813E7|174.61713564213565|\n",
      "|7ac225a7-57e8-4f6...|15936699594|5.400000254313151|3.1000022888183594| 34.02060496631639|42.900001525878906|50.099330357142854|        0.0|       null|-0.14880952487389248| 0.1633333336739313| -0.0757142858845847|7.525381326675415|     null|    null|           null|             null|        null|141.30357142857142|3.0904761904761907E7|173.46237373737375|\n",
      "+--------------------+-----------+-----------------+------------------+------------------+------------------+------------------+-----------+-----------+--------------------+-------------------+--------------------+-----------------+---------+--------+---------------+-----------------+------------+------------------+--------------------+------------------+\n",
      "only showing top 5 rows\n",
      "\n"
     ]
    }
   ],
   "source": [
    "window = Window.partitionBy('session_id').orderBy('deci').rowsBetween(-3, 3)\n",
    "window = Window.partitionBy('session_id').rowsBetween(-3, 3)\n",
    "tL = ['room_jitter','camera_jitter','joystick_freq','wheel_speed','radar_speed','force_lateral','force_longitudinal',\n",
    "      'yaw_rate','ram_usage','cpu_usage','bit_rate','cpu_temperature','camera_interframe','native_cycle','camera_latency',\n",
    "     'joystick_latency','e2e_latency']\n",
    "for t in tL:\n",
    "    ddf = ddf.withColumn(t,func.mean(ddf[t]).over(window))\n",
    "ddf.show(1)"
   ]
  },
  {
   "cell_type": "code",
   "execution_count": 156,
   "metadata": {},
   "outputs": [],
   "source": [
    "ddf.write.parquet(baseDir + \"/rem/log/prediction/\",mode=\"overwrite\")"
   ]
  },
  {
   "cell_type": "code",
   "execution_count": 158,
   "metadata": {},
   "outputs": [],
   "source": [
    "tel = ddf.toPandas()\n",
    "tel.to_csv(baseDir + \"/rem/raw/prediction/telemetry.csv.gz\",compression=\"gzip\",index=False)"
   ]
  },
  {
   "cell_type": "code",
   "execution_count": 157,
   "metadata": {},
   "outputs": [
    {
     "name": "stdout",
     "output_type": "stream",
     "text": [
      "+--------------------+-----------+------------------+------------------+------------------+------------------+------------------+-----------+-----------+--------------------+-------------------+--------------------+-----------------+-----------------+--------+------------------+-----------------+------------+------------------+--------------------+------------------+\n",
      "|          session_id|       deci|       room_jitter|    vehicle_jitter|     camera_jitter|      vehicle_ping|     joystick_freq|wheel_speed|radar_speed|       force_lateral| force_longitudinal|            yaw_rate|        ram_usage|        cpu_usage|bit_rate|   cpu_temperature|camera_interframe|native_cycle|    camera_latency|    joystick_latency|       e2e_latency|\n",
      "+--------------------+-----------+------------------+------------------+------------------+------------------+------------------+-----------+-----------+--------------------+-------------------+--------------------+-----------------+-----------------+--------+------------------+-----------------+------------+------------------+--------------------+------------------+\n",
      "|7ac225a7-57e8-4f6...|15936698938|               5.0|              10.5|  33.6972970420664|26.200000762939453| 50.40239334106445|        0.0|       null|-0.14333333385487396|0.16416666780908903| -0.0737500002918144|             null|             null|    null|              null|             null|        null|          138.9375|3.0583333333333336E7|174.73055555555555|\n",
      "|7ac225a7-57e8-4f6...|15936699403|               5.0|              null| 34.37717830773556|              null| 50.32176666259765|        0.0|       null|-0.14366666773955025| 0.1643333355585734|-0.07400000045696895|7.524114608764648|             null|    null|              null|             null|        null|             140.7|3.0666666666666668E7|174.93444444444444|\n",
      "|7ac225a7-57e8-4f6...|15936699577| 5.400000254313151| 8.799999237060547|34.353374649779965|              null| 50.26782735188802|        0.0|       null|-0.14555555664830735| 0.1611111122700903|-0.07416666692329778|7.524114608764648|             null|    null|              null|             null|        null|139.72916666666666| 3.077777777777778E7|173.32415824915824|\n",
      "|7ac225a7-57e8-4f6...|15936699592| 5.400000254313151| 7.799999237060547|33.895614732189095| 39.79999923706055| 50.22950417654855|        0.0|       null|-0.14547619081678845|0.16095238143489476|-0.07857142885526021|7.525381326675415|             null|    null|              null|             null|        null|141.35714285714286|3.0809523809523813E7|174.61713564213565|\n",
      "|7ac225a7-57e8-4f6...|15936699594| 5.400000254313151|3.1000022888183594| 34.02060496631639|42.900001525878906|50.099330357142854|        0.0|       null|-0.14880952487389248| 0.1633333336739313| -0.0757142858845847|7.525381326675415|             null|    null|              null|             null|        null|141.30357142857142|3.0904761904761907E7|173.46237373737375|\n",
      "|7ac225a7-57e8-4f6...|15936699653| 4.166667938232422|              null| 33.97818948016578|              null|50.095977783203125|        0.0|       null|-0.14404762039581934|0.16333333367393132|-0.07666666672698089|7.525381326675415|68.40336608886719|    null|              null|             null|        null|141.42857142857142|3.1047619047619045E7|175.07348484848487|\n",
      "|7ac225a7-57e8-4f6...|15936699714| 4.333333333333333|               3.5| 33.63168240992872| 35.29999923706055| 50.13432094029018|        0.0|       null|-0.14428571505205973|0.16214285755441304|-0.07952380978635379|7.525381326675415|68.40336608886719|    null|              39.0|             null|        null|142.85714285714286|3.0928571428571425E7|175.43777056277057|\n",
      "|7ac225a7-57e8-4f6...|15936699762|3.4499998092651367|               7.0|33.676695492936666|35.599998474121094| 50.12647301810129|        0.0|       null|-0.14428571505205973|0.16285714365187148|-0.08095238144908633|7.525381326675415|67.73410415649414|    null|              39.0|             null|        null|142.89285714285714| 3.078571428571428E7| 174.7056277056277|\n",
      "|7ac225a7-57e8-4f6...|15936700121|3.4499998092651367| 2.700000762939453|33.087571267501865| 34.29999923706055|50.118625095912385|        0.0|       null|-0.14500000043993905|0.16119047573634557|-0.07833333357813813|7.526648044586182|67.73410415649414|    null|              39.0|             null|        null|141.10714285714286|3.0595238095238093E7|  173.241341991342|\n",
      "|7ac225a7-57e8-4f6...|15936700565|  3.72499942779541|              null|33.215429748970955|              null| 50.11262512207031|        0.0|       null|-0.14357142930939082|0.16261904793126242|-0.07976190524087065|7.526648044586182|67.73410415649414|    null|              39.0|             null|        null|140.78571428571428|3.0404761904761907E7|174.41666666666666|\n",
      "|7ac225a7-57e8-4f6...|15936700641| 4.479999542236328|              null| 33.81864070516462|              null| 50.10649054391043|        0.0|       null|-0.14428571540684926| 0.1640476201261793|-0.07476190495349111|             null|67.73410415649414|    null|              39.0|             null|        null|138.55357142857142| 3.004761904761905E7|175.38095238095235|\n",
      "|7ac225a7-57e8-4f6...|15936700648| 4.479999542236328|3.6000022888183594| 33.57528971725864| 36.70000076293945| 50.11251940046038|        0.0|       null|-0.14476190613848822| 0.1621428582639921|-0.07547619051876521|7.539850234985352|67.73410415649414|    null|              39.0|             null|        null|139.35714285714286|2.9666666666666664E7|             177.5|\n",
      "|7ac225a7-57e8-4f6...|15936700807| 5.239999389648437|              null|33.865215659312796|              null| 50.11907196044922|        0.0|       null|-0.14666666835546494|0.15857142990543727|-0.07666666717046784|7.539850234985352| 67.0648422241211|    null|             38.75|             null|        null|137.91071428571428| 2.935714285714286E7|175.84415584415586|\n",
      "|7ac225a7-57e8-4f6...|15936701173| 4.999999237060547|              null|34.113638812353166|              null| 49.97840390886579|        0.0|       null|-0.14857143092723119|0.15904762099186578| -0.0759523810730094|7.539850234985352| 67.0648422241211|    null|              38.5|             null|        null|135.67857142857142|2.9261904761904765E7|175.79058441558442|\n",
      "|7ac225a7-57e8-4f6...|15936701394| 7.219998931884765|  7.80000114440918|33.947682389473066|30.600000381469727|49.982997349330354|        0.0|       null|-0.14928571560553142|0.15809524023816698|-0.07476190486479374|7.539850234985352|             null|    null|              38.5|             null|        null|134.28571428571428| 2.919047619047619E7|172.66558441558442|\n",
      "|7ac225a7-57e8-4f6...|15936701435| 6.716665903727214|              13.0| 33.85674136730579|              null| 49.98897443498884|        0.0|       null|-0.14928571631511053| 0.1597619070893242|-0.07666666690437565|7.539850234985352|             null|    null|              38.5|             null|        null|132.71428571428572|2.9166666666666668E7|174.27669552669553|\n",
      "|7ac225a7-57e8-4f6...|15936701639|  8.84999910990397|              null| 33.54146002611636|              null|49.995208740234375|        0.0|       null|-0.15000000241256897|0.16190476431733083|-0.07738095246964975|7.539850234985352|             null|    null|              38.5|             null|        null|132.94642857142858|2.9309523809523813E7|  173.284632034632|\n",
      "|7ac225a7-57e8-4f6...|15936701685| 8.499999364217123|              null| 33.18136303273194|              null| 50.00689097813198|        0.0|       null|-0.15095238352105733|0.15904762134665534|-0.07976190497477849|7.539850234985352|             null|    null|38.666666666666664|             null|        null|           131.625|2.9309523809523813E7|170.44859307359306|\n",
      "|7ac225a7-57e8-4f6...|15936701757| 7.599999564034598|              null| 33.13944739418906|              null|49.995945521763396|        0.0|       null|-0.15047619278941834|0.15857143096980592|-0.08000000016320319|             null|             null|    null|38.666666666666664|             null|        null|129.41071428571428|              2.95E7| 169.3271645021645|\n",
      "|7ac225a7-57e8-4f6...|15936701857| 7.099999564034598|              null| 33.06361703677373|              null| 49.98183986118862|        0.0|       null| -0.1480952398408027|0.16309524008205958|-0.07452380932157947|             null|             null|    null|             38.75|             null|        null|130.07142857142858| 2.957142857142857E7| 169.0414502164502|\n",
      "+--------------------+-----------+------------------+------------------+------------------+------------------+------------------+-----------+-----------+--------------------+-------------------+--------------------+-----------------+-----------------+--------+------------------+-----------------+------------+------------------+--------------------+------------------+\n",
      "only showing top 20 rows\n",
      "\n"
     ]
    }
   ],
   "source": [
    "df = sqlContext.read.parquet(baseDir + \"/rem/log/\" + 'prediction')\n",
    "df.show()"
   ]
  },
  {
   "cell_type": "code",
   "execution_count": null,
   "metadata": {},
   "outputs": [],
   "source": [
    "def replace_null(orig, ma):\n",
    "    return func.when(orig.isNull(), ma).otherwise(orig)\n",
    "ddf = ddf.withColumn('stream_camera',replace_null(col('latency_camera.latency_ms'), col('moving_avg')))\n",
    "ddf.select(['latency_camera','moving_avg','stream_camera']).show()"
   ]
  },
  {
   "cell_type": "code",
   "execution_count": 133,
   "metadata": {},
   "outputs": [
    {
     "data": {
      "text/plain": [
       "[Row(latency_camera=Row(camera_index=3, latency_ms=116))]"
      ]
     },
     "execution_count": 133,
     "metadata": {},
     "output_type": "execute_result"
    }
   ],
   "source": [
    "ddf1 = df.where(df.latency_camera.latency_ms != 0)\n",
    "ddf1.select(\"latency_camera\").take(1)"
   ]
  },
  {
   "cell_type": "code",
   "execution_count": 54,
   "metadata": {},
   "outputs": [
    {
     "name": "stdout",
     "output_type": "stream",
     "text": [
      "+-----------------------+--------------+------------------+\n",
      "|timestamp_ms           |latency_camera|avg               |\n",
      "+-----------------------+--------------+------------------+\n",
      "|2020-07-02 08:03:15.483|[3, 126]      |136.28571428571428|\n",
      "|2020-07-02 08:03:15.483|[0, 165]      |136.28571428571428|\n",
      "|2020-07-02 08:03:15.483|[1, 121]      |136.28571428571428|\n",
      "|2020-07-02 08:03:15.483|[2, 113]      |136.28571428571428|\n",
      "|2020-07-02 08:03:15.274|[3, 116]      |136.28571428571428|\n",
      "+-----------------------+--------------+------------------+\n",
      "only showing top 5 rows\n",
      "\n"
     ]
    }
   ],
   "source": [
    "sec_delta = lambda i: i * 1\n",
    "w = (Window.orderBy(func.col(\"timestamp_ms\").cast('long')).rangeBetween(-sec_delta(1), 0))\n",
    "ddf = ddf.withColumn('avg', func.avg(\"latency_camera.latency_ms\").over(w))\n",
    "ddf = ddf.withColumn('jitter', func.avg(\"control_room_jitter.jitter_ms\").over(w))\n",
    "ddf.select(['timestamp_ms','latency_camera','avg']).show(5,False)"
   ]
  },
  {
   "cell_type": "code",
   "execution_count": 125,
   "metadata": {},
   "outputs": [
    {
     "name": "stdout",
     "output_type": "stream",
     "text": [
      "+-----------+\n",
      "|  min(deci)|\n",
      "+-----------+\n",
      "|15936697952|\n",
      "+-----------+\n",
      "\n"
     ]
    }
   ],
   "source": [
    "ddf.agg({'deci':'min'}).show()"
   ]
  },
  {
   "cell_type": "code",
   "execution_count": 16,
   "metadata": {},
   "outputs": [],
   "source": [
    "def streamList(col):\n",
    "    \"\"\"stream a list - spark\"\"\"\n",
    "    n_buf = 5\n",
    "    buf = [0. for x in range(n_buf)]\n",
    "    norm = 1./n_buf\n",
    "    for c in col:\n",
    "        if c == c:\n",
    "            buf = buf[1:] + [c]\n",
    "        c = sum(buf)*norm\n",
    "    return col\n",
    "udf_stream = udf(streamList,FloatType())"
   ]
  }
 ],
 "metadata": {
  "kernelspec": {
   "display_name": "Python 3",
   "language": "python",
   "name": "python3"
  },
  "language_info": {
   "codemirror_mode": {
    "name": "ipython",
    "version": 3
   },
   "file_extension": ".py",
   "mimetype": "text/x-python",
   "name": "python",
   "nbconvert_exporter": "python",
   "pygments_lexer": "ipython3",
   "version": "3.8.2"
  }
 },
 "nbformat": 4,
 "nbformat_minor": 4
}
